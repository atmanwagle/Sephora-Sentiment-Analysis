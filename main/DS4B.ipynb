{
 "cells": [
  {
   "cell_type": "code",
   "execution_count": 1,
   "id": "d96a47871d8253a1",
   "metadata": {
    "collapsed": false,
    "ExecuteTime": {
     "end_time": "2024-04-24T20:12:38.840616Z",
     "start_time": "2024-04-24T20:12:37.317335Z"
    }
   },
   "outputs": [
    {
     "name": "stdout",
     "output_type": "stream",
     "text": [
      "Requirement already satisfied: pandas in /Users/rohithmullapudi/Documents/GitHub/Data-Project-DS4B/venv/lib/python3.11/site-packages (from -r ../requirements.txt (line 1)) (2.2.2)\r\n",
      "Requirement already satisfied: bs4 in /Users/rohithmullapudi/Documents/GitHub/Data-Project-DS4B/venv/lib/python3.11/site-packages (from -r ../requirements.txt (line 2)) (0.0.2)\r\n",
      "Requirement already satisfied: requests in /Users/rohithmullapudi/Documents/GitHub/Data-Project-DS4B/venv/lib/python3.11/site-packages (from -r ../requirements.txt (line 3)) (2.31.0)\r\n",
      "Requirement already satisfied: jupyter in /Users/rohithmullapudi/Documents/GitHub/Data-Project-DS4B/venv/lib/python3.11/site-packages (from -r ../requirements.txt (line 4)) (1.0.0)\r\n",
      "Requirement already satisfied: gdown in /Users/rohithmullapudi/Documents/GitHub/Data-Project-DS4B/venv/lib/python3.11/site-packages (from -r ../requirements.txt (line 5)) (5.1.0)\r\n",
      "Requirement already satisfied: numpy>=1.23.2 in /Users/rohithmullapudi/Documents/GitHub/Data-Project-DS4B/venv/lib/python3.11/site-packages (from pandas->-r ../requirements.txt (line 1)) (1.26.4)\r\n",
      "Requirement already satisfied: python-dateutil>=2.8.2 in /Users/rohithmullapudi/Documents/GitHub/Data-Project-DS4B/venv/lib/python3.11/site-packages (from pandas->-r ../requirements.txt (line 1)) (2.9.0.post0)\r\n",
      "Requirement already satisfied: pytz>=2020.1 in /Users/rohithmullapudi/Documents/GitHub/Data-Project-DS4B/venv/lib/python3.11/site-packages (from pandas->-r ../requirements.txt (line 1)) (2024.1)\r\n",
      "Requirement already satisfied: tzdata>=2022.7 in /Users/rohithmullapudi/Documents/GitHub/Data-Project-DS4B/venv/lib/python3.11/site-packages (from pandas->-r ../requirements.txt (line 1)) (2024.1)\r\n",
      "Requirement already satisfied: beautifulsoup4 in /Users/rohithmullapudi/Documents/GitHub/Data-Project-DS4B/venv/lib/python3.11/site-packages (from bs4->-r ../requirements.txt (line 2)) (4.12.3)\r\n",
      "Requirement already satisfied: charset-normalizer<4,>=2 in /Users/rohithmullapudi/Documents/GitHub/Data-Project-DS4B/venv/lib/python3.11/site-packages (from requests->-r ../requirements.txt (line 3)) (3.3.2)\r\n",
      "Requirement already satisfied: idna<4,>=2.5 in /Users/rohithmullapudi/Documents/GitHub/Data-Project-DS4B/venv/lib/python3.11/site-packages (from requests->-r ../requirements.txt (line 3)) (3.7)\r\n",
      "Requirement already satisfied: urllib3<3,>=1.21.1 in /Users/rohithmullapudi/Documents/GitHub/Data-Project-DS4B/venv/lib/python3.11/site-packages (from requests->-r ../requirements.txt (line 3)) (2.2.1)\r\n",
      "Requirement already satisfied: certifi>=2017.4.17 in /Users/rohithmullapudi/Documents/GitHub/Data-Project-DS4B/venv/lib/python3.11/site-packages (from requests->-r ../requirements.txt (line 3)) (2024.2.2)\r\n",
      "Requirement already satisfied: notebook in /Users/rohithmullapudi/Documents/GitHub/Data-Project-DS4B/venv/lib/python3.11/site-packages (from jupyter->-r ../requirements.txt (line 4)) (7.1.3)\r\n",
      "Requirement already satisfied: qtconsole in /Users/rohithmullapudi/Documents/GitHub/Data-Project-DS4B/venv/lib/python3.11/site-packages (from jupyter->-r ../requirements.txt (line 4)) (5.5.1)\r\n",
      "Requirement already satisfied: jupyter-console in /Users/rohithmullapudi/Documents/GitHub/Data-Project-DS4B/venv/lib/python3.11/site-packages (from jupyter->-r ../requirements.txt (line 4)) (6.6.3)\r\n",
      "Requirement already satisfied: nbconvert in /Users/rohithmullapudi/Documents/GitHub/Data-Project-DS4B/venv/lib/python3.11/site-packages (from jupyter->-r ../requirements.txt (line 4)) (7.16.3)\r\n",
      "Requirement already satisfied: ipykernel in /Users/rohithmullapudi/Documents/GitHub/Data-Project-DS4B/venv/lib/python3.11/site-packages (from jupyter->-r ../requirements.txt (line 4)) (6.29.4)\r\n",
      "Requirement already satisfied: ipywidgets in /Users/rohithmullapudi/Documents/GitHub/Data-Project-DS4B/venv/lib/python3.11/site-packages (from jupyter->-r ../requirements.txt (line 4)) (8.1.2)\r\n",
      "Requirement already satisfied: filelock in /Users/rohithmullapudi/Documents/GitHub/Data-Project-DS4B/venv/lib/python3.11/site-packages (from gdown->-r ../requirements.txt (line 5)) (3.13.4)\r\n",
      "Requirement already satisfied: tqdm in /Users/rohithmullapudi/Documents/GitHub/Data-Project-DS4B/venv/lib/python3.11/site-packages (from gdown->-r ../requirements.txt (line 5)) (4.66.2)\r\n",
      "Requirement already satisfied: six>=1.5 in /Users/rohithmullapudi/Documents/GitHub/Data-Project-DS4B/venv/lib/python3.11/site-packages (from python-dateutil>=2.8.2->pandas->-r ../requirements.txt (line 1)) (1.16.0)\r\n",
      "Requirement already satisfied: soupsieve>1.2 in /Users/rohithmullapudi/Documents/GitHub/Data-Project-DS4B/venv/lib/python3.11/site-packages (from beautifulsoup4->bs4->-r ../requirements.txt (line 2)) (2.5)\r\n",
      "Requirement already satisfied: appnope in /Users/rohithmullapudi/Documents/GitHub/Data-Project-DS4B/venv/lib/python3.11/site-packages (from ipykernel->jupyter->-r ../requirements.txt (line 4)) (0.1.4)\r\n",
      "Requirement already satisfied: comm>=0.1.1 in /Users/rohithmullapudi/Documents/GitHub/Data-Project-DS4B/venv/lib/python3.11/site-packages (from ipykernel->jupyter->-r ../requirements.txt (line 4)) (0.2.2)\r\n",
      "Requirement already satisfied: debugpy>=1.6.5 in /Users/rohithmullapudi/Documents/GitHub/Data-Project-DS4B/venv/lib/python3.11/site-packages (from ipykernel->jupyter->-r ../requirements.txt (line 4)) (1.8.1)\r\n",
      "Requirement already satisfied: ipython>=7.23.1 in /Users/rohithmullapudi/Documents/GitHub/Data-Project-DS4B/venv/lib/python3.11/site-packages (from ipykernel->jupyter->-r ../requirements.txt (line 4)) (8.23.0)\r\n",
      "Requirement already satisfied: jupyter-client>=6.1.12 in /Users/rohithmullapudi/Documents/GitHub/Data-Project-DS4B/venv/lib/python3.11/site-packages (from ipykernel->jupyter->-r ../requirements.txt (line 4)) (8.6.1)\r\n",
      "Requirement already satisfied: jupyter-core!=5.0.*,>=4.12 in /Users/rohithmullapudi/Documents/GitHub/Data-Project-DS4B/venv/lib/python3.11/site-packages (from ipykernel->jupyter->-r ../requirements.txt (line 4)) (5.7.2)\r\n",
      "Requirement already satisfied: matplotlib-inline>=0.1 in /Users/rohithmullapudi/Documents/GitHub/Data-Project-DS4B/venv/lib/python3.11/site-packages (from ipykernel->jupyter->-r ../requirements.txt (line 4)) (0.1.7)\r\n",
      "Requirement already satisfied: nest-asyncio in /Users/rohithmullapudi/Documents/GitHub/Data-Project-DS4B/venv/lib/python3.11/site-packages (from ipykernel->jupyter->-r ../requirements.txt (line 4)) (1.6.0)\r\n",
      "Requirement already satisfied: packaging in /Users/rohithmullapudi/Documents/GitHub/Data-Project-DS4B/venv/lib/python3.11/site-packages (from ipykernel->jupyter->-r ../requirements.txt (line 4)) (24.0)\r\n",
      "Requirement already satisfied: psutil in /Users/rohithmullapudi/Documents/GitHub/Data-Project-DS4B/venv/lib/python3.11/site-packages (from ipykernel->jupyter->-r ../requirements.txt (line 4)) (5.9.8)\r\n",
      "Requirement already satisfied: pyzmq>=24 in /Users/rohithmullapudi/Documents/GitHub/Data-Project-DS4B/venv/lib/python3.11/site-packages (from ipykernel->jupyter->-r ../requirements.txt (line 4)) (26.0.2)\r\n",
      "Requirement already satisfied: tornado>=6.1 in /Users/rohithmullapudi/Documents/GitHub/Data-Project-DS4B/venv/lib/python3.11/site-packages (from ipykernel->jupyter->-r ../requirements.txt (line 4)) (6.4)\r\n",
      "Requirement already satisfied: traitlets>=5.4.0 in /Users/rohithmullapudi/Documents/GitHub/Data-Project-DS4B/venv/lib/python3.11/site-packages (from ipykernel->jupyter->-r ../requirements.txt (line 4)) (5.14.3)\r\n",
      "Requirement already satisfied: widgetsnbextension~=4.0.10 in /Users/rohithmullapudi/Documents/GitHub/Data-Project-DS4B/venv/lib/python3.11/site-packages (from ipywidgets->jupyter->-r ../requirements.txt (line 4)) (4.0.10)\r\n",
      "Requirement already satisfied: jupyterlab-widgets~=3.0.10 in /Users/rohithmullapudi/Documents/GitHub/Data-Project-DS4B/venv/lib/python3.11/site-packages (from ipywidgets->jupyter->-r ../requirements.txt (line 4)) (3.0.10)\r\n",
      "Requirement already satisfied: prompt-toolkit>=3.0.30 in /Users/rohithmullapudi/Documents/GitHub/Data-Project-DS4B/venv/lib/python3.11/site-packages (from jupyter-console->jupyter->-r ../requirements.txt (line 4)) (3.0.43)\r\n",
      "Requirement already satisfied: pygments in /Users/rohithmullapudi/Documents/GitHub/Data-Project-DS4B/venv/lib/python3.11/site-packages (from jupyter-console->jupyter->-r ../requirements.txt (line 4)) (2.17.2)\r\n",
      "Requirement already satisfied: bleach!=5.0.0 in /Users/rohithmullapudi/Documents/GitHub/Data-Project-DS4B/venv/lib/python3.11/site-packages (from nbconvert->jupyter->-r ../requirements.txt (line 4)) (6.1.0)\r\n",
      "Requirement already satisfied: defusedxml in /Users/rohithmullapudi/Documents/GitHub/Data-Project-DS4B/venv/lib/python3.11/site-packages (from nbconvert->jupyter->-r ../requirements.txt (line 4)) (0.7.1)\r\n",
      "Requirement already satisfied: jinja2>=3.0 in /Users/rohithmullapudi/Documents/GitHub/Data-Project-DS4B/venv/lib/python3.11/site-packages (from nbconvert->jupyter->-r ../requirements.txt (line 4)) (3.1.3)\r\n",
      "Requirement already satisfied: jupyterlab-pygments in /Users/rohithmullapudi/Documents/GitHub/Data-Project-DS4B/venv/lib/python3.11/site-packages (from nbconvert->jupyter->-r ../requirements.txt (line 4)) (0.3.0)\r\n",
      "Requirement already satisfied: markupsafe>=2.0 in /Users/rohithmullapudi/Documents/GitHub/Data-Project-DS4B/venv/lib/python3.11/site-packages (from nbconvert->jupyter->-r ../requirements.txt (line 4)) (2.1.5)\r\n",
      "Requirement already satisfied: mistune<4,>=2.0.3 in /Users/rohithmullapudi/Documents/GitHub/Data-Project-DS4B/venv/lib/python3.11/site-packages (from nbconvert->jupyter->-r ../requirements.txt (line 4)) (3.0.2)\r\n",
      "Requirement already satisfied: nbclient>=0.5.0 in /Users/rohithmullapudi/Documents/GitHub/Data-Project-DS4B/venv/lib/python3.11/site-packages (from nbconvert->jupyter->-r ../requirements.txt (line 4)) (0.10.0)\r\n",
      "Requirement already satisfied: nbformat>=5.7 in /Users/rohithmullapudi/Documents/GitHub/Data-Project-DS4B/venv/lib/python3.11/site-packages (from nbconvert->jupyter->-r ../requirements.txt (line 4)) (5.10.4)\r\n",
      "Requirement already satisfied: pandocfilters>=1.4.1 in /Users/rohithmullapudi/Documents/GitHub/Data-Project-DS4B/venv/lib/python3.11/site-packages (from nbconvert->jupyter->-r ../requirements.txt (line 4)) (1.5.1)\r\n",
      "Requirement already satisfied: tinycss2 in /Users/rohithmullapudi/Documents/GitHub/Data-Project-DS4B/venv/lib/python3.11/site-packages (from nbconvert->jupyter->-r ../requirements.txt (line 4)) (1.3.0)\r\n",
      "Requirement already satisfied: jupyter-server<3,>=2.4.0 in /Users/rohithmullapudi/Documents/GitHub/Data-Project-DS4B/venv/lib/python3.11/site-packages (from notebook->jupyter->-r ../requirements.txt (line 4)) (2.14.0)\r\n",
      "Requirement already satisfied: jupyterlab-server<3,>=2.22.1 in /Users/rohithmullapudi/Documents/GitHub/Data-Project-DS4B/venv/lib/python3.11/site-packages (from notebook->jupyter->-r ../requirements.txt (line 4)) (2.27.1)\r\n",
      "Requirement already satisfied: jupyterlab<4.2,>=4.1.1 in /Users/rohithmullapudi/Documents/GitHub/Data-Project-DS4B/venv/lib/python3.11/site-packages (from notebook->jupyter->-r ../requirements.txt (line 4)) (4.1.6)\r\n",
      "Requirement already satisfied: notebook-shim<0.3,>=0.2 in /Users/rohithmullapudi/Documents/GitHub/Data-Project-DS4B/venv/lib/python3.11/site-packages (from notebook->jupyter->-r ../requirements.txt (line 4)) (0.2.4)\r\n",
      "Requirement already satisfied: qtpy>=2.4.0 in /Users/rohithmullapudi/Documents/GitHub/Data-Project-DS4B/venv/lib/python3.11/site-packages (from qtconsole->jupyter->-r ../requirements.txt (line 4)) (2.4.1)\r\n",
      "Requirement already satisfied: PySocks!=1.5.7,>=1.5.6 in /Users/rohithmullapudi/Documents/GitHub/Data-Project-DS4B/venv/lib/python3.11/site-packages (from requests->-r ../requirements.txt (line 3)) (1.7.1)\r\n",
      "Requirement already satisfied: webencodings in /Users/rohithmullapudi/Documents/GitHub/Data-Project-DS4B/venv/lib/python3.11/site-packages (from bleach!=5.0.0->nbconvert->jupyter->-r ../requirements.txt (line 4)) (0.5.1)\r\n",
      "Requirement already satisfied: decorator in /Users/rohithmullapudi/Documents/GitHub/Data-Project-DS4B/venv/lib/python3.11/site-packages (from ipython>=7.23.1->ipykernel->jupyter->-r ../requirements.txt (line 4)) (5.1.1)\r\n",
      "Requirement already satisfied: jedi>=0.16 in /Users/rohithmullapudi/Documents/GitHub/Data-Project-DS4B/venv/lib/python3.11/site-packages (from ipython>=7.23.1->ipykernel->jupyter->-r ../requirements.txt (line 4)) (0.19.1)\r\n",
      "Requirement already satisfied: stack-data in /Users/rohithmullapudi/Documents/GitHub/Data-Project-DS4B/venv/lib/python3.11/site-packages (from ipython>=7.23.1->ipykernel->jupyter->-r ../requirements.txt (line 4)) (0.6.3)\r\n",
      "Requirement already satisfied: typing-extensions in /Users/rohithmullapudi/Documents/GitHub/Data-Project-DS4B/venv/lib/python3.11/site-packages (from ipython>=7.23.1->ipykernel->jupyter->-r ../requirements.txt (line 4)) (4.11.0)\r\n",
      "Requirement already satisfied: pexpect>4.3 in /Users/rohithmullapudi/Documents/GitHub/Data-Project-DS4B/venv/lib/python3.11/site-packages (from ipython>=7.23.1->ipykernel->jupyter->-r ../requirements.txt (line 4)) (4.9.0)\r\n",
      "Requirement already satisfied: platformdirs>=2.5 in /Users/rohithmullapudi/Documents/GitHub/Data-Project-DS4B/venv/lib/python3.11/site-packages (from jupyter-core!=5.0.*,>=4.12->ipykernel->jupyter->-r ../requirements.txt (line 4)) (4.2.1)\r\n",
      "Requirement already satisfied: anyio>=3.1.0 in /Users/rohithmullapudi/Documents/GitHub/Data-Project-DS4B/venv/lib/python3.11/site-packages (from jupyter-server<3,>=2.4.0->notebook->jupyter->-r ../requirements.txt (line 4)) (4.3.0)\r\n",
      "Requirement already satisfied: argon2-cffi>=21.1 in /Users/rohithmullapudi/Documents/GitHub/Data-Project-DS4B/venv/lib/python3.11/site-packages (from jupyter-server<3,>=2.4.0->notebook->jupyter->-r ../requirements.txt (line 4)) (23.1.0)\r\n",
      "Requirement already satisfied: jupyter-events>=0.9.0 in /Users/rohithmullapudi/Documents/GitHub/Data-Project-DS4B/venv/lib/python3.11/site-packages (from jupyter-server<3,>=2.4.0->notebook->jupyter->-r ../requirements.txt (line 4)) (0.10.0)\r\n",
      "Requirement already satisfied: jupyter-server-terminals>=0.4.4 in /Users/rohithmullapudi/Documents/GitHub/Data-Project-DS4B/venv/lib/python3.11/site-packages (from jupyter-server<3,>=2.4.0->notebook->jupyter->-r ../requirements.txt (line 4)) (0.5.3)\r\n",
      "Requirement already satisfied: overrides>=5.0 in /Users/rohithmullapudi/Documents/GitHub/Data-Project-DS4B/venv/lib/python3.11/site-packages (from jupyter-server<3,>=2.4.0->notebook->jupyter->-r ../requirements.txt (line 4)) (7.7.0)\r\n",
      "Requirement already satisfied: prometheus-client>=0.9 in /Users/rohithmullapudi/Documents/GitHub/Data-Project-DS4B/venv/lib/python3.11/site-packages (from jupyter-server<3,>=2.4.0->notebook->jupyter->-r ../requirements.txt (line 4)) (0.20.0)\r\n",
      "Requirement already satisfied: send2trash>=1.8.2 in /Users/rohithmullapudi/Documents/GitHub/Data-Project-DS4B/venv/lib/python3.11/site-packages (from jupyter-server<3,>=2.4.0->notebook->jupyter->-r ../requirements.txt (line 4)) (1.8.3)\r\n",
      "Requirement already satisfied: terminado>=0.8.3 in /Users/rohithmullapudi/Documents/GitHub/Data-Project-DS4B/venv/lib/python3.11/site-packages (from jupyter-server<3,>=2.4.0->notebook->jupyter->-r ../requirements.txt (line 4)) (0.18.1)\r\n",
      "Requirement already satisfied: websocket-client>=1.7 in /Users/rohithmullapudi/Documents/GitHub/Data-Project-DS4B/venv/lib/python3.11/site-packages (from jupyter-server<3,>=2.4.0->notebook->jupyter->-r ../requirements.txt (line 4)) (1.8.0)\r\n",
      "Requirement already satisfied: async-lru>=1.0.0 in /Users/rohithmullapudi/Documents/GitHub/Data-Project-DS4B/venv/lib/python3.11/site-packages (from jupyterlab<4.2,>=4.1.1->notebook->jupyter->-r ../requirements.txt (line 4)) (2.0.4)\r\n",
      "Requirement already satisfied: httpx>=0.25.0 in /Users/rohithmullapudi/Documents/GitHub/Data-Project-DS4B/venv/lib/python3.11/site-packages (from jupyterlab<4.2,>=4.1.1->notebook->jupyter->-r ../requirements.txt (line 4)) (0.27.0)\r\n",
      "Requirement already satisfied: jupyter-lsp>=2.0.0 in /Users/rohithmullapudi/Documents/GitHub/Data-Project-DS4B/venv/lib/python3.11/site-packages (from jupyterlab<4.2,>=4.1.1->notebook->jupyter->-r ../requirements.txt (line 4)) (2.2.5)\r\n",
      "Requirement already satisfied: babel>=2.10 in /Users/rohithmullapudi/Documents/GitHub/Data-Project-DS4B/venv/lib/python3.11/site-packages (from jupyterlab-server<3,>=2.22.1->notebook->jupyter->-r ../requirements.txt (line 4)) (2.14.0)\r\n",
      "Requirement already satisfied: json5>=0.9.0 in /Users/rohithmullapudi/Documents/GitHub/Data-Project-DS4B/venv/lib/python3.11/site-packages (from jupyterlab-server<3,>=2.22.1->notebook->jupyter->-r ../requirements.txt (line 4)) (0.9.25)\r\n",
      "Requirement already satisfied: jsonschema>=4.18.0 in /Users/rohithmullapudi/Documents/GitHub/Data-Project-DS4B/venv/lib/python3.11/site-packages (from jupyterlab-server<3,>=2.22.1->notebook->jupyter->-r ../requirements.txt (line 4)) (4.21.1)\r\n",
      "Requirement already satisfied: fastjsonschema>=2.15 in /Users/rohithmullapudi/Documents/GitHub/Data-Project-DS4B/venv/lib/python3.11/site-packages (from nbformat>=5.7->nbconvert->jupyter->-r ../requirements.txt (line 4)) (2.19.1)\r\n",
      "Requirement already satisfied: wcwidth in /Users/rohithmullapudi/Documents/GitHub/Data-Project-DS4B/venv/lib/python3.11/site-packages (from prompt-toolkit>=3.0.30->jupyter-console->jupyter->-r ../requirements.txt (line 4)) (0.2.13)\r\n",
      "Requirement already satisfied: sniffio>=1.1 in /Users/rohithmullapudi/Documents/GitHub/Data-Project-DS4B/venv/lib/python3.11/site-packages (from anyio>=3.1.0->jupyter-server<3,>=2.4.0->notebook->jupyter->-r ../requirements.txt (line 4)) (1.3.1)\r\n",
      "Requirement already satisfied: argon2-cffi-bindings in /Users/rohithmullapudi/Documents/GitHub/Data-Project-DS4B/venv/lib/python3.11/site-packages (from argon2-cffi>=21.1->jupyter-server<3,>=2.4.0->notebook->jupyter->-r ../requirements.txt (line 4)) (21.2.0)\r\n",
      "Requirement already satisfied: httpcore==1.* in /Users/rohithmullapudi/Documents/GitHub/Data-Project-DS4B/venv/lib/python3.11/site-packages (from httpx>=0.25.0->jupyterlab<4.2,>=4.1.1->notebook->jupyter->-r ../requirements.txt (line 4)) (1.0.5)\r\n",
      "Requirement already satisfied: h11<0.15,>=0.13 in /Users/rohithmullapudi/Documents/GitHub/Data-Project-DS4B/venv/lib/python3.11/site-packages (from httpcore==1.*->httpx>=0.25.0->jupyterlab<4.2,>=4.1.1->notebook->jupyter->-r ../requirements.txt (line 4)) (0.14.0)\r\n",
      "Requirement already satisfied: parso<0.9.0,>=0.8.3 in /Users/rohithmullapudi/Documents/GitHub/Data-Project-DS4B/venv/lib/python3.11/site-packages (from jedi>=0.16->ipython>=7.23.1->ipykernel->jupyter->-r ../requirements.txt (line 4)) (0.8.4)\r\n",
      "Requirement already satisfied: attrs>=22.2.0 in /Users/rohithmullapudi/Documents/GitHub/Data-Project-DS4B/venv/lib/python3.11/site-packages (from jsonschema>=4.18.0->jupyterlab-server<3,>=2.22.1->notebook->jupyter->-r ../requirements.txt (line 4)) (23.2.0)\r\n",
      "Requirement already satisfied: jsonschema-specifications>=2023.03.6 in /Users/rohithmullapudi/Documents/GitHub/Data-Project-DS4B/venv/lib/python3.11/site-packages (from jsonschema>=4.18.0->jupyterlab-server<3,>=2.22.1->notebook->jupyter->-r ../requirements.txt (line 4)) (2023.12.1)\r\n",
      "Requirement already satisfied: referencing>=0.28.4 in /Users/rohithmullapudi/Documents/GitHub/Data-Project-DS4B/venv/lib/python3.11/site-packages (from jsonschema>=4.18.0->jupyterlab-server<3,>=2.22.1->notebook->jupyter->-r ../requirements.txt (line 4)) (0.35.0)\r\n",
      "Requirement already satisfied: rpds-py>=0.7.1 in /Users/rohithmullapudi/Documents/GitHub/Data-Project-DS4B/venv/lib/python3.11/site-packages (from jsonschema>=4.18.0->jupyterlab-server<3,>=2.22.1->notebook->jupyter->-r ../requirements.txt (line 4)) (0.18.0)\r\n",
      "Requirement already satisfied: python-json-logger>=2.0.4 in /Users/rohithmullapudi/Documents/GitHub/Data-Project-DS4B/venv/lib/python3.11/site-packages (from jupyter-events>=0.9.0->jupyter-server<3,>=2.4.0->notebook->jupyter->-r ../requirements.txt (line 4)) (2.0.7)\r\n",
      "Requirement already satisfied: pyyaml>=5.3 in /Users/rohithmullapudi/Documents/GitHub/Data-Project-DS4B/venv/lib/python3.11/site-packages (from jupyter-events>=0.9.0->jupyter-server<3,>=2.4.0->notebook->jupyter->-r ../requirements.txt (line 4)) (6.0.1)\r\n",
      "Requirement already satisfied: rfc3339-validator in /Users/rohithmullapudi/Documents/GitHub/Data-Project-DS4B/venv/lib/python3.11/site-packages (from jupyter-events>=0.9.0->jupyter-server<3,>=2.4.0->notebook->jupyter->-r ../requirements.txt (line 4)) (0.1.4)\r\n",
      "Requirement already satisfied: rfc3986-validator>=0.1.1 in /Users/rohithmullapudi/Documents/GitHub/Data-Project-DS4B/venv/lib/python3.11/site-packages (from jupyter-events>=0.9.0->jupyter-server<3,>=2.4.0->notebook->jupyter->-r ../requirements.txt (line 4)) (0.1.1)\r\n",
      "Requirement already satisfied: ptyprocess>=0.5 in /Users/rohithmullapudi/Documents/GitHub/Data-Project-DS4B/venv/lib/python3.11/site-packages (from pexpect>4.3->ipython>=7.23.1->ipykernel->jupyter->-r ../requirements.txt (line 4)) (0.7.0)\r\n",
      "Requirement already satisfied: executing>=1.2.0 in /Users/rohithmullapudi/Documents/GitHub/Data-Project-DS4B/venv/lib/python3.11/site-packages (from stack-data->ipython>=7.23.1->ipykernel->jupyter->-r ../requirements.txt (line 4)) (2.0.1)\r\n",
      "Requirement already satisfied: asttokens>=2.1.0 in /Users/rohithmullapudi/Documents/GitHub/Data-Project-DS4B/venv/lib/python3.11/site-packages (from stack-data->ipython>=7.23.1->ipykernel->jupyter->-r ../requirements.txt (line 4)) (2.4.1)\r\n",
      "Requirement already satisfied: pure-eval in /Users/rohithmullapudi/Documents/GitHub/Data-Project-DS4B/venv/lib/python3.11/site-packages (from stack-data->ipython>=7.23.1->ipykernel->jupyter->-r ../requirements.txt (line 4)) (0.2.2)\r\n",
      "Requirement already satisfied: fqdn in /Users/rohithmullapudi/Documents/GitHub/Data-Project-DS4B/venv/lib/python3.11/site-packages (from jsonschema>=4.18.0->jupyterlab-server<3,>=2.22.1->notebook->jupyter->-r ../requirements.txt (line 4)) (1.5.1)\r\n",
      "Requirement already satisfied: isoduration in /Users/rohithmullapudi/Documents/GitHub/Data-Project-DS4B/venv/lib/python3.11/site-packages (from jsonschema>=4.18.0->jupyterlab-server<3,>=2.22.1->notebook->jupyter->-r ../requirements.txt (line 4)) (20.11.0)\r\n",
      "Requirement already satisfied: jsonpointer>1.13 in /Users/rohithmullapudi/Documents/GitHub/Data-Project-DS4B/venv/lib/python3.11/site-packages (from jsonschema>=4.18.0->jupyterlab-server<3,>=2.22.1->notebook->jupyter->-r ../requirements.txt (line 4)) (2.4)\r\n",
      "Requirement already satisfied: uri-template in /Users/rohithmullapudi/Documents/GitHub/Data-Project-DS4B/venv/lib/python3.11/site-packages (from jsonschema>=4.18.0->jupyterlab-server<3,>=2.22.1->notebook->jupyter->-r ../requirements.txt (line 4)) (1.3.0)\r\n",
      "Requirement already satisfied: webcolors>=1.11 in /Users/rohithmullapudi/Documents/GitHub/Data-Project-DS4B/venv/lib/python3.11/site-packages (from jsonschema>=4.18.0->jupyterlab-server<3,>=2.22.1->notebook->jupyter->-r ../requirements.txt (line 4)) (1.13)\r\n",
      "Requirement already satisfied: cffi>=1.0.1 in /Users/rohithmullapudi/Documents/GitHub/Data-Project-DS4B/venv/lib/python3.11/site-packages (from argon2-cffi-bindings->argon2-cffi>=21.1->jupyter-server<3,>=2.4.0->notebook->jupyter->-r ../requirements.txt (line 4)) (1.16.0)\r\n",
      "Requirement already satisfied: pycparser in /Users/rohithmullapudi/Documents/GitHub/Data-Project-DS4B/venv/lib/python3.11/site-packages (from cffi>=1.0.1->argon2-cffi-bindings->argon2-cffi>=21.1->jupyter-server<3,>=2.4.0->notebook->jupyter->-r ../requirements.txt (line 4)) (2.22)\r\n",
      "Requirement already satisfied: arrow>=0.15.0 in /Users/rohithmullapudi/Documents/GitHub/Data-Project-DS4B/venv/lib/python3.11/site-packages (from isoduration->jsonschema>=4.18.0->jupyterlab-server<3,>=2.22.1->notebook->jupyter->-r ../requirements.txt (line 4)) (1.3.0)\r\n",
      "Requirement already satisfied: types-python-dateutil>=2.8.10 in /Users/rohithmullapudi/Documents/GitHub/Data-Project-DS4B/venv/lib/python3.11/site-packages (from arrow>=0.15.0->isoduration->jsonschema>=4.18.0->jupyterlab-server<3,>=2.22.1->notebook->jupyter->-r ../requirements.txt (line 4)) (2.9.0.20240316)\r\n",
      "\r\n",
      "\u001B[1m[\u001B[0m\u001B[34;49mnotice\u001B[0m\u001B[1;39;49m]\u001B[0m\u001B[39;49m A new release of pip is available: \u001B[0m\u001B[31;49m23.2.1\u001B[0m\u001B[39;49m -> \u001B[0m\u001B[32;49m24.0\u001B[0m\r\n",
      "\u001B[1m[\u001B[0m\u001B[34;49mnotice\u001B[0m\u001B[1;39;49m]\u001B[0m\u001B[39;49m To update, run: \u001B[0m\u001B[32;49mpip install --upgrade pip\u001B[0m\r\n",
      "Note: you may need to restart the kernel to use updated packages.\n"
     ]
    }
   ],
   "source": [
    "%pip install -r '../requirements.txt'"
   ]
  },
  {
   "cell_type": "code",
   "execution_count": 2,
   "id": "e9d32c985d83a68",
   "metadata": {
    "collapsed": false,
    "ExecuteTime": {
     "end_time": "2024-04-24T20:12:38.844538Z",
     "start_time": "2024-04-24T20:12:38.838289Z"
    }
   },
   "outputs": [
    {
     "name": "stdout",
     "output_type": "stream",
     "text": [
      "Files already exist, skipping download\n"
     ]
    }
   ],
   "source": [
    "import shutil\n",
    "import os\n",
    "import zipfile\n",
    "\n",
    "\n",
    "dependency_path = '../dependencies/'\n",
    "file_name = 'archive.zip'\n",
    "file_id = '1PWh1rMqWh0JjkygP-CZbYn-VtL2TMrmB'\n",
    "files_to_check = ['reviews_0-250.csv', 'reviews_250-500.csv', 'reviews_500-750.csv', 'reviews_750-1250.csv', 'reviews_1250-end.csv']\n",
    "\n",
    "\n",
    "def download_file(id_of_file, destination):\n",
    "    os.system('gdown ' + id_of_file + ' -O ' + destination)\n",
    "\n",
    "def check_files():\n",
    "    if not os.path.exists(dependency_path):\n",
    "        return False\n",
    "    for file_to_check in files_to_check:\n",
    "        if not os.path.exists(os.path.join(dependency_path, file_to_check)):\n",
    "            return False\n",
    "    return True\n",
    "\n",
    "if not check_files():\n",
    "    if os.path.exists(dependency_path):\n",
    "        shutil.rmtree(dependency_path)\n",
    "    os.makedirs(dependency_path) \n",
    "    download_file(file_id, dependency_path + file_name)\n",
    "    try:\n",
    "        with zipfile.ZipFile(dependency_path + file_name, 'r') as zip_ref:\n",
    "            zip_ref.extractall(dependency_path)\n",
    "        print(\"Extraction successful.\")\n",
    "        os.remove(dependency_path + file_name)\n",
    "    except zipfile.BadZipFile:\n",
    "        print(\"Error while extracting zip\")\n",
    "    if os.path.exists(dependency_path + '__MACOSX'):\n",
    "        shutil.rmtree(dependency_path + '__MACOSX')\n",
    "    for file in files_to_check:\n",
    "        shutil.move(dependency_path + 'archive/' + file, dependency_path + file)\n",
    "    shutil.rmtree(dependency_path + 'archive')\n",
    "else:\n",
    "    print(\"Files already exist, skipping download\")\n",
    "    "
   ]
  },
  {
   "cell_type": "code",
   "execution_count": 3,
   "id": "ea580367a18b7307",
   "metadata": {
    "collapsed": false,
    "ExecuteTime": {
     "end_time": "2024-04-24T20:12:38.902495Z",
     "start_time": "2024-04-24T20:12:38.845786Z"
    }
   },
   "outputs": [
    {
     "name": "stdout",
     "output_type": "stream",
     "text": [
      "Extracted brand links found at /data/brand_links.txt, proceeding with locally saved file. To re-extract the brand links, delete the file and run the cell again\n"
     ]
    }
   ],
   "source": [
    "import requests\n",
    "from bs4 import BeautifulSoup\n",
    "\n",
    "if not os.path.exists('../data/brand_links.txt'):\n",
    "    brand_lst_link = 'https://sephora.com/brands-list'\n",
    "    response = requests.get(url=brand_lst_link, headers={'User-Agent': 'Your Custom User-Agent'})\n",
    "    soup = BeautifulSoup(response.content, 'html.parser')\n",
    "    \n",
    "    # Scraping brand links and saving them into a list\n",
    "    brand_link_lst = []\n",
    "    main_box = soup.find_all(attrs={\"data-at\": \"brand_link\", \"data-comp\": \"StyledComponent BaseComponent \"})\n",
    "    \n",
    "    for brand in main_box:\n",
    "        brand_link = brand.get('href')\n",
    "        if not str(brand_link).startswith('/brand'):\n",
    "            brand_link = '/brand' + brand_link\n",
    "        brand_link_lst.append(\"https://www.sephora.com\" + brand_link + \"/all?pageSize=300\")\n",
    "    \n",
    "    if not os.path.exists('../data/'):\n",
    "        os.mkdir('../data/')\n",
    "    with open('../data/brand_links.txt', 'w') as f:\n",
    "        for link in brand_link_lst:\n",
    "            f.write(link + '\\n')\n",
    "            \n",
    "    print(\"Saving brand links to /data/brand_links.txt\")\n",
    "    \n",
    "else:\n",
    "    print(\"Extracted brand links found at /data/brand_links.txt, proceeding with locally saved file. To re-extract the brand links, delete the file and run the cell again\")\n"
   ]
  },
  {
   "cell_type": "code",
   "execution_count": 4,
   "id": "4f508f2c7babee1a",
   "metadata": {
    "collapsed": false,
    "ExecuteTime": {
     "end_time": "2024-04-24T20:12:39.211380Z",
     "start_time": "2024-04-24T20:12:38.902201Z"
    }
   },
   "outputs": [
    {
     "name": "stdout",
     "output_type": "stream",
     "text": [
      "Extracted product links found at /data/product_links.csv, proceeding with locally saved file. To re-extract the product links, delete the file and run the cell again\n"
     ]
    }
   ],
   "source": [
    "import json\n",
    "import pandas as pd\n",
    "\n",
    "\n",
    "brand_links = []\n",
    "with open('../data/brand_links.txt', 'r') as f:\n",
    "    for line in f:\n",
    "        brand_links.append(line.strip())\n",
    "\n",
    "if not os.path.exists('../data/product_links.csv'):\n",
    "    print(\"Brand links have been loaded from the text file: brand_links.txt\")\n",
    "    \n",
    "    brand_names = []\n",
    "    product_names = []\n",
    "    product_ids = []\n",
    "    product_links = []\n",
    "    \n",
    "    for brand in brand_links:\n",
    "        brand_name = brand.split(\"/\")[4]\n",
    "        print(\"Scraping data for \" + brand_name)\n",
    "        response = requests.get(url=brand, headers={'User-Agent': 'Your Custom User-Agent'})\n",
    "        soup = BeautifulSoup(response.content, 'html.parser')\n",
    "        try:\n",
    "            products = soup.find(attrs={\"data-comp\": \"PageJSON \"})\n",
    "            products = json.loads(products.get_text('script')).get('page').get('nthBrand').get('products')\n",
    "            for product in products:\n",
    "                mini_url = product.get('targetUrl')\n",
    "                product_name = product.get('displayName')\n",
    "                product_id = product.get('productId')\n",
    "                product_link = \"https://www.sephora.com\" + mini_url + \"/all?pageSize=300\"\n",
    "    \n",
    "                brand_names.append(brand_name)\n",
    "                product_names.append(product_name)\n",
    "                product_ids.append(product_id)\n",
    "                product_links.append(product_link)\n",
    "        except TypeError as e:\n",
    "            print(\"No products found for the Brand: \" + brand_name)\n",
    "    \n",
    "    products_df = pd.DataFrame({\n",
    "        'brand_name': brand_names,\n",
    "        'product_name': product_names,\n",
    "        'product_id': product_ids,\n",
    "        'product_link': product_links\n",
    "    })\n",
    "    products_df.to_csv(\"../data/product_links.csv\")\n",
    "    print(\"Saving product links to /data/product_links.csv\")\n",
    "    \n",
    "else:\n",
    "    products_df = pd.read_csv('../data/product_links.csv')\n",
    "    brand_names = products_df['brand_name'].tolist()\n",
    "    product_names = products_df['product_name'].tolist()\n",
    "    product_ids = products_df['product_id'].tolist()\n",
    "    product_links = products_df['product_link'].tolist()\n",
    "    print(\"Extracted product links found at /data/product_links.csv, proceeding with locally saved file. To re-extract the product links, delete the file and run the cell again\")\n"
   ]
  },
  {
   "cell_type": "code",
   "execution_count": 5,
   "id": "26fddfd5f32a4011",
   "metadata": {
    "collapsed": false,
    "ExecuteTime": {
     "end_time": "2024-04-24T20:12:45.210402Z",
     "start_time": "2024-04-24T20:12:39.209437Z"
    }
   },
   "outputs": [],
   "source": [
    "reviews = []\n",
    "for file in files_to_check:\n",
    "    reviews.append(pd.read_csv(dependency_path + file, low_memory=False))\n",
    "reviews_df = pd.concat(reviews, ignore_index=True)"
   ]
  },
  {
   "cell_type": "code",
   "execution_count": 6,
   "id": "8e26e06d6be9844e",
   "metadata": {
    "collapsed": false,
    "ExecuteTime": {
     "end_time": "2024-04-24T20:12:45.224179Z",
     "start_time": "2024-04-24T20:12:45.216192Z"
    }
   },
   "outputs": [
    {
     "data": {
      "text/plain": "   Unnamed: 0    author_id  rating  is_recommended  helpfulness  \\\n0           0   1741593524       5             1.0          1.0   \n1           1  31423088263       1             0.0          NaN   \n2           2   5061282401       5             1.0          NaN   \n3           3   6083038851       5             1.0          NaN   \n4           4  47056667835       5             1.0          NaN   \n\n   total_feedback_count  total_neg_feedback_count  total_pos_feedback_count  \\\n0                     2                         0                         2   \n1                     0                         0                         0   \n2                     0                         0                         0   \n3                     0                         0                         0   \n4                     0                         0                         0   \n\n  submission_time                                        review_text  \\\n0      2023-02-01  I use this with the Nudestix “Citrus Clean Bal...   \n1      2023-03-21  I bought this lip mask after reading the revie...   \n2      2023-03-21  My review title says it all! I get so excited ...   \n3      2023-03-20  I’ve always loved this formula for a long time...   \n4      2023-03-20  If you have dry cracked lips, this is a must h...   \n\n                       review_title skin_tone eye_color    skin_type  \\\n0  Taught me how to double cleanse!       NaN     brown          dry   \n1                      Disappointed       NaN       NaN          NaN   \n2              New Favorite Routine     light     brown          dry   \n3   Can't go wrong with any of them       NaN     brown  combination   \n4                   A must have !!!     light     hazel  combination   \n\n  hair_color product_id                                       product_name  \\\n0      black    P504322                     Gentle Hydra-Gel Face Cleanser   \n1        NaN    P420652  Lip Sleeping Mask Intense Hydration with Vitam...   \n2     blonde    P420652  Lip Sleeping Mask Intense Hydration with Vitam...   \n3      black    P420652  Lip Sleeping Mask Intense Hydration with Vitam...   \n4        NaN    P420652  Lip Sleeping Mask Intense Hydration with Vitam...   \n\n  brand_name  price_usd  \n0   NUDESTIX       19.0  \n1    LANEIGE       24.0  \n2    LANEIGE       24.0  \n3    LANEIGE       24.0  \n4    LANEIGE       24.0  ",
      "text/html": "<div>\n<style scoped>\n    .dataframe tbody tr th:only-of-type {\n        vertical-align: middle;\n    }\n\n    .dataframe tbody tr th {\n        vertical-align: top;\n    }\n\n    .dataframe thead th {\n        text-align: right;\n    }\n</style>\n<table border=\"1\" class=\"dataframe\">\n  <thead>\n    <tr style=\"text-align: right;\">\n      <th></th>\n      <th>Unnamed: 0</th>\n      <th>author_id</th>\n      <th>rating</th>\n      <th>is_recommended</th>\n      <th>helpfulness</th>\n      <th>total_feedback_count</th>\n      <th>total_neg_feedback_count</th>\n      <th>total_pos_feedback_count</th>\n      <th>submission_time</th>\n      <th>review_text</th>\n      <th>review_title</th>\n      <th>skin_tone</th>\n      <th>eye_color</th>\n      <th>skin_type</th>\n      <th>hair_color</th>\n      <th>product_id</th>\n      <th>product_name</th>\n      <th>brand_name</th>\n      <th>price_usd</th>\n    </tr>\n  </thead>\n  <tbody>\n    <tr>\n      <th>0</th>\n      <td>0</td>\n      <td>1741593524</td>\n      <td>5</td>\n      <td>1.0</td>\n      <td>1.0</td>\n      <td>2</td>\n      <td>0</td>\n      <td>2</td>\n      <td>2023-02-01</td>\n      <td>I use this with the Nudestix “Citrus Clean Bal...</td>\n      <td>Taught me how to double cleanse!</td>\n      <td>NaN</td>\n      <td>brown</td>\n      <td>dry</td>\n      <td>black</td>\n      <td>P504322</td>\n      <td>Gentle Hydra-Gel Face Cleanser</td>\n      <td>NUDESTIX</td>\n      <td>19.0</td>\n    </tr>\n    <tr>\n      <th>1</th>\n      <td>1</td>\n      <td>31423088263</td>\n      <td>1</td>\n      <td>0.0</td>\n      <td>NaN</td>\n      <td>0</td>\n      <td>0</td>\n      <td>0</td>\n      <td>2023-03-21</td>\n      <td>I bought this lip mask after reading the revie...</td>\n      <td>Disappointed</td>\n      <td>NaN</td>\n      <td>NaN</td>\n      <td>NaN</td>\n      <td>NaN</td>\n      <td>P420652</td>\n      <td>Lip Sleeping Mask Intense Hydration with Vitam...</td>\n      <td>LANEIGE</td>\n      <td>24.0</td>\n    </tr>\n    <tr>\n      <th>2</th>\n      <td>2</td>\n      <td>5061282401</td>\n      <td>5</td>\n      <td>1.0</td>\n      <td>NaN</td>\n      <td>0</td>\n      <td>0</td>\n      <td>0</td>\n      <td>2023-03-21</td>\n      <td>My review title says it all! I get so excited ...</td>\n      <td>New Favorite Routine</td>\n      <td>light</td>\n      <td>brown</td>\n      <td>dry</td>\n      <td>blonde</td>\n      <td>P420652</td>\n      <td>Lip Sleeping Mask Intense Hydration with Vitam...</td>\n      <td>LANEIGE</td>\n      <td>24.0</td>\n    </tr>\n    <tr>\n      <th>3</th>\n      <td>3</td>\n      <td>6083038851</td>\n      <td>5</td>\n      <td>1.0</td>\n      <td>NaN</td>\n      <td>0</td>\n      <td>0</td>\n      <td>0</td>\n      <td>2023-03-20</td>\n      <td>I’ve always loved this formula for a long time...</td>\n      <td>Can't go wrong with any of them</td>\n      <td>NaN</td>\n      <td>brown</td>\n      <td>combination</td>\n      <td>black</td>\n      <td>P420652</td>\n      <td>Lip Sleeping Mask Intense Hydration with Vitam...</td>\n      <td>LANEIGE</td>\n      <td>24.0</td>\n    </tr>\n    <tr>\n      <th>4</th>\n      <td>4</td>\n      <td>47056667835</td>\n      <td>5</td>\n      <td>1.0</td>\n      <td>NaN</td>\n      <td>0</td>\n      <td>0</td>\n      <td>0</td>\n      <td>2023-03-20</td>\n      <td>If you have dry cracked lips, this is a must h...</td>\n      <td>A must have !!!</td>\n      <td>light</td>\n      <td>hazel</td>\n      <td>combination</td>\n      <td>NaN</td>\n      <td>P420652</td>\n      <td>Lip Sleeping Mask Intense Hydration with Vitam...</td>\n      <td>LANEIGE</td>\n      <td>24.0</td>\n    </tr>\n  </tbody>\n</table>\n</div>"
     },
     "execution_count": 6,
     "metadata": {},
     "output_type": "execute_result"
    }
   ],
   "source": [
    "reviews_df.head()"
   ]
  },
  {
   "cell_type": "code",
   "execution_count": 7,
   "id": "14a48c5d3b64da6e",
   "metadata": {
    "collapsed": false,
    "ExecuteTime": {
     "end_time": "2024-04-24T20:12:45.433270Z",
     "start_time": "2024-04-24T20:12:45.225119Z"
    }
   },
   "outputs": [
    {
     "data": {
      "text/plain": "         Unnamed: 0        rating  is_recommended    helpfulness  \\\ncount  1.094411e+06  1.094411e+06   926423.000000  532819.000000   \nmean   1.989864e+05  4.299158e+00        0.839962       0.767782   \nstd    1.749886e+05  1.149444e+00        0.366642       0.317164   \nmin    0.000000e+00  1.000000e+00        0.000000       0.000000   \n25%    5.590600e+04  4.000000e+00        1.000000       0.652174   \n50%    1.308240e+05  5.000000e+00        1.000000       0.928571   \n75%    3.285265e+05  5.000000e+00        1.000000       1.000000   \nmax    6.021290e+05  5.000000e+00        1.000000       1.000000   \n\n       total_feedback_count  total_neg_feedback_count  \\\ncount          1.094411e+06              1.094411e+06   \nmean           4.177126e+00              8.948695e-01   \nstd            2.271524e+01              5.288943e+00   \nmin            0.000000e+00              0.000000e+00   \n25%            0.000000e+00              0.000000e+00   \n50%            0.000000e+00              0.000000e+00   \n75%            3.000000e+00              1.000000e+00   \nmax            5.464000e+03              1.159000e+03   \n\n       total_pos_feedback_count     price_usd  \ncount              1.094411e+06  1.094411e+06  \nmean               3.282257e+00  4.900838e+01  \nstd                1.967482e+01  4.004338e+01  \nmin                0.000000e+00  3.000000e+00  \n25%                0.000000e+00  2.500000e+01  \n50%                0.000000e+00  3.900000e+01  \n75%                3.000000e+00  6.200000e+01  \nmax                5.050000e+03  1.900000e+03  ",
      "text/html": "<div>\n<style scoped>\n    .dataframe tbody tr th:only-of-type {\n        vertical-align: middle;\n    }\n\n    .dataframe tbody tr th {\n        vertical-align: top;\n    }\n\n    .dataframe thead th {\n        text-align: right;\n    }\n</style>\n<table border=\"1\" class=\"dataframe\">\n  <thead>\n    <tr style=\"text-align: right;\">\n      <th></th>\n      <th>Unnamed: 0</th>\n      <th>rating</th>\n      <th>is_recommended</th>\n      <th>helpfulness</th>\n      <th>total_feedback_count</th>\n      <th>total_neg_feedback_count</th>\n      <th>total_pos_feedback_count</th>\n      <th>price_usd</th>\n    </tr>\n  </thead>\n  <tbody>\n    <tr>\n      <th>count</th>\n      <td>1.094411e+06</td>\n      <td>1.094411e+06</td>\n      <td>926423.000000</td>\n      <td>532819.000000</td>\n      <td>1.094411e+06</td>\n      <td>1.094411e+06</td>\n      <td>1.094411e+06</td>\n      <td>1.094411e+06</td>\n    </tr>\n    <tr>\n      <th>mean</th>\n      <td>1.989864e+05</td>\n      <td>4.299158e+00</td>\n      <td>0.839962</td>\n      <td>0.767782</td>\n      <td>4.177126e+00</td>\n      <td>8.948695e-01</td>\n      <td>3.282257e+00</td>\n      <td>4.900838e+01</td>\n    </tr>\n    <tr>\n      <th>std</th>\n      <td>1.749886e+05</td>\n      <td>1.149444e+00</td>\n      <td>0.366642</td>\n      <td>0.317164</td>\n      <td>2.271524e+01</td>\n      <td>5.288943e+00</td>\n      <td>1.967482e+01</td>\n      <td>4.004338e+01</td>\n    </tr>\n    <tr>\n      <th>min</th>\n      <td>0.000000e+00</td>\n      <td>1.000000e+00</td>\n      <td>0.000000</td>\n      <td>0.000000</td>\n      <td>0.000000e+00</td>\n      <td>0.000000e+00</td>\n      <td>0.000000e+00</td>\n      <td>3.000000e+00</td>\n    </tr>\n    <tr>\n      <th>25%</th>\n      <td>5.590600e+04</td>\n      <td>4.000000e+00</td>\n      <td>1.000000</td>\n      <td>0.652174</td>\n      <td>0.000000e+00</td>\n      <td>0.000000e+00</td>\n      <td>0.000000e+00</td>\n      <td>2.500000e+01</td>\n    </tr>\n    <tr>\n      <th>50%</th>\n      <td>1.308240e+05</td>\n      <td>5.000000e+00</td>\n      <td>1.000000</td>\n      <td>0.928571</td>\n      <td>0.000000e+00</td>\n      <td>0.000000e+00</td>\n      <td>0.000000e+00</td>\n      <td>3.900000e+01</td>\n    </tr>\n    <tr>\n      <th>75%</th>\n      <td>3.285265e+05</td>\n      <td>5.000000e+00</td>\n      <td>1.000000</td>\n      <td>1.000000</td>\n      <td>3.000000e+00</td>\n      <td>1.000000e+00</td>\n      <td>3.000000e+00</td>\n      <td>6.200000e+01</td>\n    </tr>\n    <tr>\n      <th>max</th>\n      <td>6.021290e+05</td>\n      <td>5.000000e+00</td>\n      <td>1.000000</td>\n      <td>1.000000</td>\n      <td>5.464000e+03</td>\n      <td>1.159000e+03</td>\n      <td>5.050000e+03</td>\n      <td>1.900000e+03</td>\n    </tr>\n  </tbody>\n</table>\n</div>"
     },
     "execution_count": 7,
     "metadata": {},
     "output_type": "execute_result"
    }
   ],
   "source": [
    "reviews_df.describe()"
   ]
  },
  {
   "cell_type": "code",
   "execution_count": 8,
   "id": "34a77cc8e9d70182",
   "metadata": {
    "collapsed": false,
    "ExecuteTime": {
     "end_time": "2024-04-24T20:12:45.474982Z",
     "start_time": "2024-04-24T20:12:45.448038Z"
    }
   },
   "outputs": [],
   "source": [
    "product_id_list = reviews_df['product_id'].unique()"
   ]
  },
  {
   "cell_type": "code",
   "execution_count": 9,
   "id": "54e392aa8931c64b",
   "metadata": {
    "collapsed": false,
    "ExecuteTime": {
     "end_time": "2024-04-24T20:12:45.481740Z",
     "start_time": "2024-04-24T20:12:45.459164Z"
    }
   },
   "outputs": [
    {
     "data": {
      "text/plain": "2351"
     },
     "execution_count": 9,
     "metadata": {},
     "output_type": "execute_result"
    }
   ],
   "source": [
    "len(product_id_list)"
   ]
  },
  {
   "cell_type": "code",
   "execution_count": 10,
   "id": "612457cfdb5e26e",
   "metadata": {
    "collapsed": false,
    "ExecuteTime": {
     "end_time": "2024-04-24T20:12:46.199303Z",
     "start_time": "2024-04-24T20:12:45.517962Z"
    }
   },
   "outputs": [
    {
     "name": "stdout",
     "output_type": "stream",
     "text": [
      "There are 1593 common products\n"
     ]
    }
   ],
   "source": [
    "common_products = []\n",
    "for product in product_ids:\n",
    "    for product_idx in product_id_list:\n",
    "        if product == product_idx:\n",
    "            common_products.append(product)\n",
    "print(\"There are \" +str(len(common_products)) + \" common products\")"
   ]
  },
  {
   "cell_type": "code",
   "execution_count": 11,
   "id": "b81092a6abc1b0c9",
   "metadata": {
    "collapsed": false,
    "ExecuteTime": {
     "end_time": "2024-04-24T20:12:46.334719Z",
     "start_time": "2024-04-24T20:12:46.217063Z"
    }
   },
   "outputs": [],
   "source": [
    "reviews_df = reviews_df[reviews_df['product_id'].isin(common_products)]"
   ]
  },
  {
   "cell_type": "code",
   "execution_count": 12,
   "id": "da7b340672158ded",
   "metadata": {
    "collapsed": false,
    "ExecuteTime": {
     "end_time": "2024-04-24T20:12:46.363271Z",
     "start_time": "2024-04-24T20:12:46.348188Z"
    }
   },
   "outputs": [
    {
     "data": {
      "text/plain": "1593"
     },
     "execution_count": 12,
     "metadata": {},
     "output_type": "execute_result"
    }
   ],
   "source": [
    "len(reviews_df['product_id'].unique())"
   ]
  },
  {
   "cell_type": "code",
   "execution_count": 13,
   "id": "b422c72d495163b0",
   "metadata": {
    "collapsed": false,
    "ExecuteTime": {
     "end_time": "2024-04-24T20:12:46.368376Z",
     "start_time": "2024-04-24T20:12:46.363468Z"
    }
   },
   "outputs": [],
   "source": [
    "products_df = products_df[products_df['product_id'].isin(common_products)]"
   ]
  },
  {
   "cell_type": "code",
   "execution_count": 14,
   "id": "82dee21488ab550d",
   "metadata": {
    "collapsed": false,
    "ExecuteTime": {
     "end_time": "2024-04-24T20:12:46.373433Z",
     "start_time": "2024-04-24T20:12:46.370124Z"
    }
   },
   "outputs": [
    {
     "data": {
      "text/plain": "Unnamed: 0      1593\nbrand_name      1593\nproduct_name    1593\nproduct_id      1593\nproduct_link    1593\ndtype: int64"
     },
     "execution_count": 14,
     "metadata": {},
     "output_type": "execute_result"
    }
   ],
   "source": [
    "products_df.count()"
   ]
  },
  {
   "cell_type": "code",
   "execution_count": 15,
   "id": "8d0041660274230e",
   "metadata": {
    "collapsed": false,
    "ExecuteTime": {
     "end_time": "2024-04-24T20:12:46.401873Z",
     "start_time": "2024-04-24T20:12:46.377466Z"
    }
   },
   "outputs": [
    {
     "name": "stdout",
     "output_type": "stream",
     "text": [
      "Extracted chemicals in products found at /data/products.csv, proceeding with locally saved file. To re-extract the product links, delete the file and run the cell again\n"
     ]
    }
   ],
   "source": [
    "import time\n",
    "import json\n",
    "import re\n",
    "\n",
    "\n",
    "def remove_text_in_parentheses(input_string):\n",
    "    result = re.sub(r'\\([^)]*\\)', '', input_string)\n",
    "    return result.strip()\n",
    "\n",
    "def get_chemicals_from_link(product_link):\n",
    "    response = requests.get(url=product_link, headers={'User-Agent': 'User-Agent'})\n",
    "    soup = BeautifulSoup(response.content, 'html.parser')\n",
    "    product = soup.find(attrs={\"data-comp\": \"PageJSON \"})\n",
    "    try:\n",
    "        ingredients_text = json.loads(product.get_text('script')).get('page').get('product').get('currentSku').get(\n",
    "            'ingredientDesc')\n",
    "    except Exception as e:\n",
    "        return []\n",
    "    if not ingredients_text:\n",
    "        return []\n",
    "    ingredients_soup = BeautifulSoup(ingredients_text, 'html.parser')\n",
    "    names = ingredients_soup.get_text().split(',')\n",
    "    individual_names = [name for name in names if name.strip()]\n",
    "\n",
    "    cleaned_names = []\n",
    "    for name in individual_names:\n",
    "        if name.startswith('*'):\n",
    "            continue\n",
    "        if len(name) < 4:\n",
    "            continue\n",
    "        cleaned_name = remove_text_in_parentheses(name)\n",
    "        if cleaned_name and not cleaned_name.endswith('*'):\n",
    "            cleaned_names.append(cleaned_name)\n",
    "            \n",
    "    ingredients = list(set(cleaned_names))\n",
    "    chemicals = []\n",
    "\n",
    "    for ingredient in ingredients:\n",
    "        retries = 2  # Number of retries\n",
    "        while retries > 0:\n",
    "            response = requests.get(\"https://webbook.nist.gov/cgi/cbook.cgi?Name=\" + ingredient + \"&Units=SI\")\n",
    "            if response.status_code == 200:\n",
    "                soup = BeautifulSoup(response.content, 'html.parser')\n",
    "                title = soup.find('title').get_text()\n",
    "                if title == \"Search Results\":\n",
    "                    best_match = soup.find('main').find('ol').find('li').find('a').get_text()\n",
    "                    chemicals.append(best_match)\n",
    "                elif title == \"Name Not Found\":\n",
    "                    break\n",
    "                elif title == \"No Matching Species Found\":\n",
    "                    break\n",
    "                else:\n",
    "                    chemicals.append(title)\n",
    "                break \n",
    "            else:\n",
    "                time.sleep(5)\n",
    "                retries -= 1\n",
    "        else:\n",
    "            print(f\"Error: Unable to fetch data for ingredient {ingredient}\")\n",
    "    \n",
    "    return chemicals\n",
    "\n",
    "\n",
    "if not os.path.exists('../data/products.csv'):\n",
    "    print(\"Product links has been loaded from the file: product_links.csv\")\n",
    "    chemicals_lists = []\n",
    "    total_products = len(products_df)\n",
    "    \n",
    "    for i, (index, row) in enumerate(products_df.iterrows(), start=1):\n",
    "        product_link = row['product_link']\n",
    "        product_name = row['product_name']\n",
    "        chemicals = get_chemicals_from_link(product_link)\n",
    "        chemicals_lists.append(chemicals)\n",
    "        if chemicals:\n",
    "            print(f\"Chemicals extracted for {i}/{total_products} products: {product_name}\")   \n",
    "            print(chemicals)\n",
    "        else:\n",
    "            print(\"No chemicals found for \" + product_name)\n",
    "    \n",
    "    products_df['chemicals_list'] = chemicals_lists\n",
    "    products_df.to_csv(\"../data/products.csv\")\n",
    "    print(\"Saving chemicals in products to /data/products.csv\")\n",
    "else:\n",
    "    products_df = pd.read_csv(\"../data/products.csv\")\n",
    "    print(\"Extracted chemicals in products found at /data/products.csv, proceeding with locally saved file. To re-extract the product links, delete the file and run the cell again\")"
   ]
  },
  {
   "cell_type": "code",
   "execution_count": 23,
   "id": "46404a361e5fa3c8",
   "metadata": {
    "collapsed": false,
    "ExecuteTime": {
     "end_time": "2024-04-24T20:24:37.485831Z",
     "start_time": "2024-04-24T20:24:37.470308Z"
    }
   },
   "outputs": [
    {
     "name": "stdout",
     "output_type": "stream",
     "text": [
      "Total unique chemicals: 406\n",
      "Chemicals occurring in more than 15 products:  70\n"
     ]
    }
   ],
   "source": [
    "from collections import Counter\n",
    "import ast\n",
    "\n",
    "\n",
    "common_chemicals_list = []\n",
    "\n",
    "\n",
    "for chemicals_list in products_df['chemicals_list']:\n",
    "    common_chemicals_list.extend(ast.literal_eval(chemicals_list))\n",
    "\n",
    "chemicals_frequency = dict(Counter(common_chemicals_list).most_common())\n",
    "\n",
    "print(\"Total unique chemicals:\", len(chemicals_frequency.values()))\n",
    "\n",
    "\n",
    "high_frequency_chemicals = 0\n",
    "for chemical in chemicals_frequency.keys():\n",
    "    if chemicals_frequency[chemical] > 50:\n",
    "        high_frequency_chemicals += 1\n",
    "\n",
    "\n",
    "print(\"Chemicals occurring in more than 15 products: \", high_frequency_chemicals)"
   ]
  },
  {
   "cell_type": "code",
   "execution_count": 17,
   "id": "63cefa8e3ce4c8fa",
   "metadata": {
    "collapsed": false,
    "ExecuteTime": {
     "end_time": "2024-04-24T20:12:46.419079Z",
     "start_time": "2024-04-24T20:12:46.416974Z"
    }
   },
   "outputs": [
    {
     "name": "stdout",
     "output_type": "stream",
     "text": [
      "<class 'pandas.core.frame.DataFrame'>\n",
      "RangeIndex: 1498 entries, 0 to 1497\n",
      "Data columns (total 6 columns):\n",
      " #   Column          Non-Null Count  Dtype \n",
      "---  ------          --------------  ----- \n",
      " 0   Unnamed: 0      1498 non-null   int64 \n",
      " 1   brand_name      1498 non-null   object\n",
      " 2   product_name    1498 non-null   object\n",
      " 3   product_id      1498 non-null   object\n",
      " 4   product_link    1498 non-null   object\n",
      " 5   chemicals_list  1498 non-null   object\n",
      "dtypes: int64(1), object(5)\n",
      "memory usage: 70.3+ KB\n"
     ]
    }
   ],
   "source": [
    "products_df.info()"
   ]
  },
  {
   "cell_type": "code",
   "execution_count": 18,
   "id": "d2b87c91b87119ed",
   "metadata": {
    "collapsed": false,
    "ExecuteTime": {
     "end_time": "2024-04-24T20:12:46.423804Z",
     "start_time": "2024-04-24T20:12:46.419963Z"
    }
   },
   "outputs": [],
   "source": [
    "products_df = products_df[[\"brand_name\", \"product_name\", \"product_id\", \"product_link\", \"chemicals_list\"]]"
   ]
  },
  {
   "cell_type": "code",
   "execution_count": 19,
   "id": "947820a2b0a3d6d5",
   "metadata": {
    "collapsed": false,
    "ExecuteTime": {
     "end_time": "2024-04-24T20:12:46.458806Z",
     "start_time": "2024-04-24T20:12:46.422123Z"
    }
   },
   "outputs": [
    {
     "data": {
      "text/plain": "brand_name        1498\nproduct_name      1498\nproduct_id        1498\nproduct_link      1498\nchemicals_list    1498\ndtype: int64"
     },
     "execution_count": 19,
     "metadata": {},
     "output_type": "execute_result"
    }
   ],
   "source": [
    "products_df.count()"
   ]
  },
  {
   "cell_type": "code",
   "execution_count": 20,
   "id": "b04db4114a535ebe",
   "metadata": {
    "collapsed": false,
    "ExecuteTime": {
     "end_time": "2024-04-24T20:12:46.459890Z",
     "start_time": "2024-04-24T20:12:46.446036Z"
    }
   },
   "outputs": [],
   "source": [
    "products_df = products_df[products_df['chemicals_list'].apply(lambda x: len(eval(x)) > 0)]"
   ]
  },
  {
   "cell_type": "code",
   "execution_count": 21,
   "id": "2168d28ea5cd8727",
   "metadata": {
    "collapsed": false,
    "ExecuteTime": {
     "end_time": "2024-04-24T20:12:46.460115Z",
     "start_time": "2024-04-24T20:12:46.448860Z"
    }
   },
   "outputs": [
    {
     "data": {
      "text/plain": "brand_name        1498\nproduct_name      1498\nproduct_id        1498\nproduct_link      1498\nchemicals_list    1498\ndtype: int64"
     },
     "execution_count": 21,
     "metadata": {},
     "output_type": "execute_result"
    }
   ],
   "source": [
    "products_df.count()"
   ]
  },
  {
   "cell_type": "code",
   "execution_count": 22,
   "id": "d7d0792da61a890b",
   "metadata": {
    "collapsed": false,
    "ExecuteTime": {
     "end_time": "2024-04-24T20:12:46.461944Z",
     "start_time": "2024-04-24T20:12:46.451017Z"
    }
   },
   "outputs": [],
   "source": [
    "products_df.to_csv(\"../data/products.csv\")"
   ]
  },
  {
   "cell_type": "code",
   "execution_count": 22,
   "id": "823262cf9b35a90e",
   "metadata": {
    "collapsed": false,
    "ExecuteTime": {
     "end_time": "2024-04-24T20:12:46.467128Z",
     "start_time": "2024-04-24T20:12:46.462229Z"
    }
   },
   "outputs": [],
   "source": []
  }
 ],
 "metadata": {
  "kernelspec": {
   "display_name": "Python 3",
   "language": "python",
   "name": "python3"
  },
  "language_info": {
   "codemirror_mode": {
    "name": "ipython",
    "version": 2
   },
   "file_extension": ".py",
   "mimetype": "text/x-python",
   "name": "python",
   "nbconvert_exporter": "python",
   "pygments_lexer": "ipython2",
   "version": "2.7.6"
  }
 },
 "nbformat": 4,
 "nbformat_minor": 5
}
